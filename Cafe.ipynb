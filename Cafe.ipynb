{
  "nbformat": 4,
  "nbformat_minor": 0,
  "metadata": {
    "colab": {
      "provenance": []
    },
    "kernelspec": {
      "name": "python3",
      "display_name": "Python 3"
    },
    "language_info": {
      "name": "python"
    }
  },
  "cells": [
    {
      "cell_type": "markdown",
      "source": [
        "Actividad Practica"
      ],
      "metadata": {
        "id": "z1_Bkox445oX"
      }
    },
    {
      "cell_type": "code",
      "execution_count": 7,
      "metadata": {
        "colab": {
          "base_uri": "https://localhost:8080/"
        },
        "id": "F24EwCHL4rmf",
        "outputId": "07dd3a14-2947-4e59-a090-a353f13f2dad"
      },
      "outputs": [
        {
          "output_type": "stream",
          "name": "stdout",
          "text": [
            "Ingrese la cantidad de agua en ml: 1\n",
            "Ingrese la cantidad de cafe en gr: 1\n",
            "Ingrese el tiempo que desea esperar en minutos: 1\n",
            "Se recomienda el uso de mas agua\n"
          ]
        }
      ],
      "source": [
        "import asyncio\n",
        "\n",
        "## Declaración de variables\n",
        "cantidadAgua = int(input(\"Ingrese la cantidad de agua en ml: \"))\n",
        "cantidadCafe = int(input(\"Ingrese la cantidad de cafe en gr: \"))\n",
        "tiempoEspera = int(input(\"Ingrese el tiempo que desea esperar en minutos: \"))\n",
        "\n",
        "## Pasos del proceso\n",
        "\n",
        "async def llenarCafetera(cantidadAgua):\n",
        "  if cantidadAgua <= 100:\n",
        "    print(\"Se recomienda el uso de mas agua\")  # Imprimir antes de detener\n",
        "    return False # Detener la ejecución si hay poca agua\n",
        "  else:\n",
        "    print(\"La cafetera va a usar:\",cantidadAgua, \"milimitros de agua\")\n",
        "    return True\n",
        "\n",
        "async def agregarCafe(cantidadCafe):\n",
        "    if cantidadCafe <= 1:\n",
        "        print(\"Se recomienda el uso de más café\")  # Imprimir antes de detener\n",
        "        return False # Detener la ejecución si hay poco café\n",
        "    else:\n",
        "        print(\"La cafetera va a usar:\", cantidadCafe)\n",
        "        return True\n",
        "\n",
        "def encenderCafetera(tiempoEspera):\n",
        "  print(\"Por favor espere: \", tiempoEspera, \"minuto*s\")\n",
        "\n",
        "async def esperar(tiempoEspera):\n",
        "    await asyncio.sleep(tiempoEspera * 60)\n",
        "\n",
        "async def preparaCafe(cantidadAgua, cantidadCafe, tiempoEspera):\n",
        "    if not await llenarCafetera(cantidadAgua):\n",
        "        return  # Detiene si hay un problema con el agua\n",
        "    if not await agregarCafe(cantidadCafe):\n",
        "        return  # Detiene si hay un problema con el café\n",
        "    print(\"Encendiendo la cafetera...\")\n",
        "    encenderCafetera(tiempoEspera)\n",
        "    await esperar(tiempoEspera)\n",
        "    print(\"¡Tu café está listo!\")\n",
        "\n",
        "await preparaCafe(cantidadAgua, cantidadCafe, tiempoEspera)\n",
        "\n",
        "\n",
        "\n",
        "# Hola profe solo para informarle que me tuve que soportar en el uso de la herramienta integrada Gemini\n",
        "# para la funcion asincronica en python y el uso de la libreria asyncio, y tambien para que la funcion\n",
        "# preparaCafe si se detuviera cuando los valores eran inferiores a los pedian en los if-else (No tengo xp en python)"
      ]
    },
    {
      "cell_type": "code",
      "source": [],
      "metadata": {
        "id": "K1atC-cSp0GY"
      },
      "execution_count": null,
      "outputs": []
    }
  ]
}